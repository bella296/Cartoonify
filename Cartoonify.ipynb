{
 "cells": [
  {
   "cell_type": "raw",
   "id": "696d4eba",
   "metadata": {},
   "source": [
    "REQUIRED PACKAGES FOR CARTOONIFY\n",
    "import cv2\n",
    "import easygui\n",
    "import numpy as np\n",
    "import imageio\n",
    "import sys\n",
    "import matplotlib.pyplot as plt\n",
    "import os\n",
    "import tkinter as tk\n",
    "from tkinter import filedialog\n",
    "from tkinter import *\n",
    "from PIL import ImageTk, Image\n",
    "\n",
    "\n",
    "MAIN PROCESS\n",
    "To convert an image to a cartoon, multiple transformations are done. Firstly, an image is converted to a Grayscale image. Yes, similar to the old day’s pictures.! Then, the Grayscale image is smoothened, and we try to extract the edges in the image. Finally, we form a color image and mask it with edges. This creates a beautiful cartoon image with edges and lightened color of the original image.\n"
   ]
  },
  {
   "cell_type": "code",
   "execution_count": null,
   "id": "006df83d",
   "metadata": {},
   "outputs": [],
   "source": [
    "import sys\n",
    "import cv2\n",
    "import imageio\n",
    "import easygui\n",
    "import os\n",
    "import tkinter as tk\n",
    "import numpy as np\n",
    "import matplotlib.pyplot as plt\n",
    "from tkinter import filedialog\n",
    "from tkinter import *\n",
    "from PIL import ImageTk, Image\n"
   ]
  },
  {
   "cell_type": "code",
   "execution_count": null,
   "id": "5852a212",
   "metadata": {},
   "outputs": [],
   "source": [
    "def upload():\n",
    "    imagepath=easygui.fileopenbox()#this will open box to choose file and store filepath as string\n",
    "    cartoonify(imagepath)\n",
    "    "
   ]
  },
  {
   "cell_type": "code",
   "execution_count": null,
   "id": "7c977a7a",
   "metadata": {},
   "outputs": [],
   "source": [
    "def cartoonify(path):\n",
    "    oimage=cv2.imread(path)#TO STORE IMAGE IN FORM OF NO. array\n",
    "    oimage=cv2.cvtColor(oimage,cv2.COLOR_BGR2RGB)#in rgb format\n",
    "    if(oimage is None):\n",
    "        print(\"Choose Appropriate File.\")\n",
    "        sys.exit()\n",
    "    resized1=cv2.resize(oimage,(960,540))\n",
    "    greyimage=cv2.cvtColor(oimage,cv2.COLOR_BGR2GRAY)#converting in graysale\n",
    "    resized2=cv2.resize(greyimage,(960,540))#resizing\n",
    "    smoothgreyimage= cv2.medianBlur(greyimage,5)#using 5 as kernel size for median blurring\n",
    "    resized3=cv2.resize(smoothgreyimage,(960,540))\n",
    "    getedge=cv2.adaptiveThreshold(smoothgreyimage,255,cv2.ADAPTIVE_THRESH_MEAN_C,cv2.THRESH_BINARY,9,9)\n",
    "    #parameters and constnat like max_value is in range of 0-255,last two are blocksize(usually 3,5,7...) and\n",
    "    #last one is constant which is subtrated from mean geenrally +ve can be -ve or 0\n",
    "    resized4=cv2.resize(getedge,(960,540))\n",
    "    colorimage=cv2.bilateralFilter(oimage,9,300,300)#obtaining lightened color image of original\n",
    "    resized5=cv2.resize(colorimage,(960,540))\n",
    "    cartoonimage = cv2.bitwise_and(colorimage, colorimage, mask=getedge)#masking edged & smooth image\n",
    "    resized6=cv2.resize(cartoonimage,(960,540))\n",
    "    #plotting all the transitions of image\n",
    "    images=[resized1,resized2,resized3,resized4,resized5,resized6]\n",
    "    fig, axes = plt.subplots(3,2, figsize=(8,8), subplot_kw={'xticks':[], 'yticks':[]}, gridspec_kw=dict(hspace=0.1, wspace=0.1))\n",
    "    for i, ax in enumerate(axes.flat):\n",
    "        ax.imshow(images[i], cmap='gray')\n",
    "    save1=Button(top,text=\"Save cartoonified Image\",command=lambda:save(resized6,path),padx=0,pady=5)\n",
    "    save1.configure(background='#364156', foreground='white',font=('calibri',10,'bold'))\n",
    "    save1.pack(side=TOP,pady=50)\n",
    "    plt.show()\n",
    "    \n",
    "    \n",
    "\n",
    "                          "
   ]
  },
  {
   "cell_type": "code",
   "execution_count": null,
   "id": "91c6a1c9",
   "metadata": {},
   "outputs": [],
   "source": [
    "def save(resized6,imagepath):\n",
    "    newname=\"cartoonified_img\"\n",
    "    path1=os.path.dirname(imagepath)\n",
    "    extension=os.path.splitext(imagepath)[1]\n",
    "    path2=os.path.join(path1,newname+extension)\n",
    "    cv2.imwrite(path2,cv2.cvtColor(resized6,cv2.COLOR_RGB2BGR))\n",
    "    msg=\"Cartoonified Image saved by name\"+newname+\" at \"+path2\n",
    "    tk.messagebox.showinfo(ttile=None,message=msg)\n"
   ]
  },
  {
   "cell_type": "code",
   "execution_count": null,
   "id": "d536f967",
   "metadata": {},
   "outputs": [],
   "source": [
    "top=tk.Tk()\n",
    "top.geometry('400x400')\n",
    "top.title('cartoonify your Image')\n",
    "top.configure(background='white')\n",
    "label=Label(top,background='#CDCDCD',font=('calibri',20,'bold'))\n",
    "upload=Button(top,text=\"cartoonify the image\",command=upload,padx=10,pady=5)\n",
    "upload.configure(background=\"#364156\",foreground=\"white\",font=('calibri',10,'bold'))\n",
    "upload.pack(side=TOP,pady=50)"
   ]
  },
  {
   "cell_type": "code",
   "execution_count": null,
   "id": "da45d988",
   "metadata": {},
   "outputs": [],
   "source": [
    "# to run the mainloop upload the picture and obtain cartoonified image \n",
    "top.mainloop()"
   ]
  },
  {
   "cell_type": "code",
   "execution_count": null,
   "id": "86214b78",
   "metadata": {},
   "outputs": [],
   "source": []
  },
  {
   "cell_type": "code",
   "execution_count": null,
   "id": "0695ad0a",
   "metadata": {},
   "outputs": [],
   "source": []
  },
  {
   "cell_type": "code",
   "execution_count": null,
   "id": "2fc69519",
   "metadata": {},
   "outputs": [],
   "source": []
  },
  {
   "cell_type": "code",
   "execution_count": null,
   "id": "1e1080e3",
   "metadata": {},
   "outputs": [],
   "source": []
  }
 ],
 "metadata": {
  "kernelspec": {
   "display_name": "Python 3 (ipykernel)",
   "language": "python",
   "name": "python3"
  },
  "language_info": {
   "codemirror_mode": {
    "name": "ipython",
    "version": 3
   },
   "file_extension": ".py",
   "mimetype": "text/x-python",
   "name": "python",
   "nbconvert_exporter": "python",
   "pygments_lexer": "ipython3",
   "version": "3.10.0"
  }
 },
 "nbformat": 4,
 "nbformat_minor": 5
}
